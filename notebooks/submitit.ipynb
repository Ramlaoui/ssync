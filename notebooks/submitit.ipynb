{
 "cells": [
  {
   "cell_type": "code",
   "execution_count": 1,
   "id": "a512adda",
   "metadata": {},
   "outputs": [],
   "source": [
    "%load_ext autoreload\n",
    "%autoreload 2\n",
    "\n",
    "import os\n",
    "from pathlib import Path\n",
    "\n",
    "from ssync.manager import SlurmManager\n",
    "from ssync.utils.config import config\n",
    "\n",
    "os.environ[\"ADASTRA_PSSWD\"] = \"xhSyqEbFft4FpXRW\""
   ]
  },
  {
   "cell_type": "code",
   "execution_count": 2,
   "id": "1387bb9f",
   "metadata": {},
   "outputs": [],
   "source": [
    "# import submitit\n",
    "\n",
    "# # Example 1: Submitting a simple function to a local executor\n",
    "# def my_function(x, y):\n",
    "#     return x + y\n",
    "\n",
    "# executor = submitit.AutoExecutor(folder=\"log_folder\")\n",
    "# executor.update_parameters(timeout_min=10, slurm_partition=\"dev\")  # For SLURM, adjust as needed\n",
    "\n",
    "# job = executor.submit(my_function, 1, 2)\n",
    "# print(\"Job submitted with ID:\", job.job_id)\n",
    "# result = job.result()\n",
    "# print(\"Job result:\", result)\n",
    "\n",
    "# # Example 2: Submitting a class method\n",
    "# class MyClass:\n",
    "#     def __call__(self, x):\n",
    "#         return x * x\n",
    "\n",
    "# job2 = executor.submit(MyClass(), 5)\n",
    "# print(\"Job2 result:\", job2.result())\n",
    "\n",
    "# # Example 3: Array jobs (batch submission)\n",
    "# def square(x):\n",
    "#     return x * x\n",
    "\n",
    "# jobs = executor.map_array(square, range(5))\n",
    "# results = [job.result() for job in jobs]\n",
    "# print(\"Array job results:\", results)\n"
   ]
  },
  {
   "cell_type": "code",
   "execution_count": 3,
   "id": "4e161747",
   "metadata": {},
   "outputs": [],
   "source": [
    "config = config.load_config()\n",
    "manager = SlurmManager(config)"
   ]
  },
  {
   "cell_type": "code",
   "execution_count": 4,
   "id": "ca305b75",
   "metadata": {},
   "outputs": [
    {
     "name": "stdout",
     "output_type": "stream",
     "text": [
      "2025-08-26 18:17:33 - ssync.connection - \u001b[94mDEBUG\u001b[0m - Requesting connection to: ali_ramlaoui_entalpic_ai@entalpic\n",
      "2025-08-26 18:17:33 - ssync.connection - \u001b[94mDEBUG\u001b[0m - Attempting connection to ali_ramlaoui_entalpic_ai@entalpic (timeout: 30s)\n",
      "2025-08-26 18:17:33 - ssync.connection - \u001b[94mDEBUG\u001b[0m - ✓ Created NEW connection to ali_ramlaoui_entalpic_ai@entalpic\n"
     ]
    },
    {
     "data": {
      "text/plain": [
       "<Connection host=hpcsharedv-slurm-login-001.c.entalpic-prod-hpc-449911.internal user=ali_ramlaoui_entalpic_ai gw=proxyjump>"
      ]
     },
     "execution_count": 4,
     "metadata": {},
     "output_type": "execute_result"
    }
   ],
   "source": [
    "manager._get_connection(manager.get_host_by_name(\"entalpic\").host)"
   ]
  },
  {
   "cell_type": "code",
   "execution_count": 7,
   "id": "4dd9de25",
   "metadata": {},
   "outputs": [
    {
     "name": "stdout",
     "output_type": "stream",
     "text": [
      "2025-08-26 18:18:29 - ssync.connection - \u001b[94mDEBUG\u001b[0m - Requesting connection to: ali_ramlaoui_entalpic_ai@entalpic\n",
      "2025-08-26 18:18:29 - ssync.connection - \u001b[94mDEBUG\u001b[0m - ✓ Reused EXISTING connection to ali_ramlaoui_entalpic_ai@entalpic\n",
      "2025-08-26 18:18:29 - ssync.slurm.client - \u001b[94mDEBUG\u001b[0m - Getting available fields for entalpic\n",
      "2025-08-26 18:18:29 - ssync.slurm.client - \u001b[94mDEBUG\u001b[0m - Detecting available sacct fields for entalpic\n",
      "2025-08-26 18:18:29 - ssync.slurm.client - \u001b[94mDEBUG\u001b[0m - Available sacct fields for entalpic: ['JobID', 'JobName', 'State', 'User', 'Partition', 'AllocNodes', 'AllocCPUS', 'ReqMem', 'Timelimit', 'Elapsed', 'Submit', 'SubmitLine', 'Start', 'End', 'WorkDir', 'StdOut', 'StdErr', 'NodeList', 'Reason', 'AllocTRES', 'ReqTRES', 'CPUTime', 'TotalCPU', 'MaxRSS', 'ConsumedEnergy']\n",
      "2025-08-26 18:18:29 - ssync.slurm.client - \u001b[94mDEBUG\u001b[0m - Selected fields for entalpic: ['JobID', 'JobName', 'State', 'User', 'Partition', 'AllocNodes', 'AllocCPUS', 'ReqMem', 'Timelimit', 'Elapsed', 'Submit', 'SubmitLine', 'Start', 'End', 'WorkDir', 'StdOut', 'StdErr', 'NodeList', 'Reason', 'AllocTRES', 'ReqTRES', 'CPUTime', 'TotalCPU', 'MaxRSS', 'ConsumedEnergy']\n",
      "2025-08-26 18:18:30 - ssync.slurm.client - \u001b[94mDEBUG\u001b[0m - Running sacct command on entalpic: sacct -X --format=JobID,JobName,State,User,Partition,AllocNodes,AllocCPUS,ReqMem,Timelimit,Elapsed,Submit,SubmitLine,Start,End,WorkDir,StdOut,StdErr,NodeList,Reason,AllocTRES,ReqTRES,CPUTime,TotalCPU,MaxRSS,ConsumedEnergy --parsable2 --noheader --user=ali_ramlaoui_entalpic_ai\n",
      "2025-08-26 18:18:30 - ssync.slurm.client - \u001b[94mDEBUG\u001b[0m - sacct found 1 lines for entalpic\n",
      "2025-08-26 18:18:30 - ssync.slurm.client - \u001b[94mDEBUG\u001b[0m - Parsed sacct job 10090 on entalpic: state=F, user=ali_ramlaoui_entalpic_ai\n"
     ]
    },
    {
     "data": {
      "text/plain": [
       "[JobInfo(job_id='10090', name='orb_classification_omat_100K_forces', state=<JobState.FAILED: 'F'>, hostname='entalpic', user='ali_ramlaoui_entalpic_ai', partition='g2', nodes='1', cpus='2', memory='15504M', time_limit='20:00:00', runtime='01:30:01', reason='None', work_dir='/home/ali_ramlaoui_entalpic_ai/entaloracle', stdout_file='/home/ali_ramlaoui_entalpic_ai/entaloracle/slurm-10090.out', stderr_file='', submit_time='2025-08-25T22:52:48', submit_line='sbatch --job-name=orb_classification_omat_100K_forces --time=1200 --cpus-per-task=2 --partition=g2 --nodes=1 --gpus-per-node=1 /home/ali_ramlaoui_entalpic_ai/entaloracle/scripts/clean_launch_entalpic.slurm', start_time='2025-08-25T22:54:21', end_time='2025-08-26T00:24:22', node_list='hpcsharedv-g2nodeset-14', alloc_tres='billing=2,cpu=2,mem=15504M,node=1', req_tres='billing=2,cpu=2,mem=15504M,node=1', cpu_time='03:00:02', total_cpu='00:00:00', user_cpu=None, system_cpu=None, ave_cpu=None, ave_cpu_freq=None, req_cpu_freq_min=None, req_cpu_freq_max=None, max_rss=None, ave_rss=None, max_vmsize=None, ave_vmsize=None, max_disk_read=None, max_disk_write=None, ave_disk_read=None, ave_disk_write=None, consumed_energy=None)]"
      ]
     },
     "execution_count": 7,
     "metadata": {},
     "output_type": "execute_result"
    }
   ],
   "source": [
    "from ssync.slurm.client import SlurmClient\n",
    "\n",
    "client = SlurmClient()\n",
    "conn = manager._get_connection(manager.get_host_by_name(\"entalpic\").host)\n",
    "# client.get_active_jobs(conn, \"entalpic\")\n",
    "client.get_completed_jobs(conn, \"entalpic\")"
   ]
  },
  {
   "cell_type": "code",
   "execution_count": null,
   "id": "bab041ef",
   "metadata": {},
   "outputs": [],
   "source": [
    "from ssync.cache import get_cache\n",
    "\n",
    "cache = get_cache()"
   ]
  },
  {
   "cell_type": "code",
   "execution_count": null,
   "id": "beb3bc2c",
   "metadata": {},
   "outputs": [
    {
     "data": {
      "text/plain": [
       "['__class__',\n",
       " '__delattr__',\n",
       " '__dict__',\n",
       " '__dir__',\n",
       " '__doc__',\n",
       " '__eq__',\n",
       " '__format__',\n",
       " '__ge__',\n",
       " '__getattribute__',\n",
       " '__getstate__',\n",
       " '__gt__',\n",
       " '__hash__',\n",
       " '__init__',\n",
       " '__init_subclass__',\n",
       " '__le__',\n",
       " '__lt__',\n",
       " '__module__',\n",
       " '__ne__',\n",
       " '__new__',\n",
       " '__reduce__',\n",
       " '__reduce_ex__',\n",
       " '__repr__',\n",
       " '__setattr__',\n",
       " '__sizeof__',\n",
       " '__str__',\n",
       " '__subclasshook__',\n",
       " '__weakref__',\n",
       " '_generate_cache_key',\n",
       " '_get_connection',\n",
       " '_init_database',\n",
       " '_lock',\n",
       " '_parse_since_to_dates',\n",
       " '_prepare_dict_for_json',\n",
       " '_row_to_cached_data',\n",
       " '_store_cached_data',\n",
       " 'cache_date_range_query',\n",
       " 'cache_dir',\n",
       " 'cache_job',\n",
       " 'check_date_range_cache',\n",
       " 'cleanup_by_size',\n",
       " 'cleanup_expired_ranges',\n",
       " 'cleanup_old_entries',\n",
       " 'close',\n",
       " 'db_path',\n",
       " 'export_cache_data',\n",
       " 'get_cache_stats',\n",
       " 'get_cached_job',\n",
       " 'get_cached_jobs',\n",
       " 'mark_job_completed',\n",
       " 'max_age_days',\n",
       " 'update_job_outputs',\n",
       " 'update_job_script',\n",
       " 'verify_cached_jobs']"
      ]
     },
     "execution_count": 7,
     "metadata": {},
     "output_type": "execute_result"
    }
   ],
   "source": [
    "dir(cache)"
   ]
  },
  {
   "cell_type": "code",
   "execution_count": null,
   "id": "652ddc36",
   "metadata": {},
   "outputs": [
    {
     "data": {
      "text/plain": [
       "{'total_jobs': 31,\n",
       " 'active_jobs': 0,\n",
       " 'completed_jobs': 31,\n",
       " 'jobs_by_hostname': {'entalpic': 24, 'adastra': 7},\n",
       " 'jobs_with_scripts': 1,\n",
       " 'jobs_with_stdout': 1,\n",
       " 'cache_dir': '~/.cache/ssync',\n",
       " 'db_size_mb': 0.09765625,\n",
       " 'date_range_cache': {'active_ranges': 0,\n",
       "  'total_hits': 0,\n",
       "  'avg_hits_per_range': 0.0,\n",
       "  'top_ranges': []}}"
      ]
     },
     "execution_count": 15,
     "metadata": {},
     "output_type": "execute_result"
    }
   ],
   "source": [
    "cache.get_cache_stats()"
   ]
  },
  {
   "cell_type": "code",
   "execution_count": null,
   "id": "d6745fba",
   "metadata": {},
   "outputs": [
    {
     "data": {
      "text/plain": [
       "CachedJobData(job_id='9925', hostname='entalpic', job_info=JobInfo(job_id='9925', name='clean_tmpt029xw4o.slurm', state=<JobState.COMPLETED: 'CD'>, hostname='entalpic', user='ali_ramlaoui_entalpic_ai', partition='c2standard', nodes='1', cpus='30', memory='238140M', time_limit='00:05:00', runtime='00:00:01', reason='None', work_dir='/home/ali_ramlaoui_entalpic_ai/entaloracle', stdout_file='/home/ali_ramlaoui_entalpic_ai/entaloracle/slurm-9925.out', stderr_file='', submit_time='2025-08-25T09:05:20', submit_line='sbatch --time=5 --cpus-per-task=1 --partition=c2standard --nodes=1 --ntasks-per-node=30 /home/ali_ramlaoui_entalpic_ai/entaloracle/scripts/clean_tmpt029xw4o.slurm', start_time='2025-08-25T09:07:00', end_time='2025-08-25T09:07:01', node_list='hpcsharedv-c2standardnode-4', alloc_tres='billing=30,cpu=30,mem=238140M,node=1', req_tres='billing=30,cpu=30,mem=238140M,node=1', cpu_time='00:00:30', total_cpu='00:00:00', user_cpu=None, system_cpu=None, ave_cpu=None, ave_cpu_freq=None, req_cpu_freq_min=None, req_cpu_freq_max=None, max_rss=None, ave_rss=None, max_vmsize=None, ave_vmsize=None, max_disk_read=None, max_disk_write=None, ave_disk_read=None, ave_disk_write=None, consumed_energy=None), script_content=None, stdout_content=None, stderr_content=None, cached_at=datetime.datetime(2025, 8, 25, 19, 14, 23, 425433), last_updated=datetime.datetime(2025, 8, 25, 19, 28, 46, 682965), is_active=False)"
      ]
     },
     "execution_count": 16,
     "metadata": {},
     "output_type": "execute_result"
    }
   ],
   "source": [
    "cache.get_cached_jobs()[0]"
   ]
  },
  {
   "cell_type": "code",
   "execution_count": 41,
   "id": "cd296562",
   "metadata": {},
   "outputs": [
    {
     "name": "stdout",
     "output_type": "stream",
     "text": [
      "2025-08-25 17:06:37 - ssync.connection - \u001b[94mDEBUG\u001b[0m - Requesting connection to: ali_ramlaoui_entalpic_ai@entalpic\n",
      "2025-08-25 17:06:37 - ssync.connection - \u001b[94mDEBUG\u001b[0m - ✓ Created NEW connection to ali_ramlaoui_entalpic_ai@entalpic\n",
      "2025-08-25 17:06:37 - ssync.utils.ssh - \u001b[94mDEBUG\u001b[0m - Sending test_dir/launch.sh to hpcsharedv-slurm-login-001.c.entalpic-prod-hpc-449911.internal:/home/ali_ramlaoui_entalpic_ai/.cache/ssync/launch.sh\n",
      "2025-08-25 17:06:39 - ssync.utils.ssh - \u001b[94mDEBUG\u001b[0m - Sent test_dir/launch.sh to hpcsharedv-slurm-login-001.c.entalpic-prod-hpc-449911.internal:/home/ali_ramlaoui_entalpic_ai/.cache/ssync/launch.sh\n",
      "Submitted batch job 10051\n"
     ]
    },
    {
     "data": {
      "text/plain": [
       "Job()"
      ]
     },
     "execution_count": 41,
     "metadata": {},
     "output_type": "execute_result"
    }
   ],
   "source": [
    "from ssync.utils.slurm_params import SlurmParams\n",
    "\n",
    "params = SlurmParams(\n",
    "    \"entalpic\",\n",
    "    time_min=30,\n",
    "    cpus_per_task=1,\n",
    "    mem_gb=4,\n",
    "    partition=\"debug\",\n",
    ")\n",
    "\n",
    "api_endpoint = \"/jobs/launch?job_name=entalpic&time=30&cpus_per_task=1&mem=4&partition=debug&ntasks_per_node=1&nodes=1&gres=\"\n",
    "\n",
    "\n",
    "manager.submit_script(\"entalpic\", local_script_path=\"test_dir/launch.sh\", params=params)"
   ]
  },
  {
   "cell_type": "code",
   "execution_count": 52,
   "id": "beb30950",
   "metadata": {},
   "outputs": [
    {
     "name": "stdout",
     "output_type": "stream",
     "text": [
      "2025-08-23 00:15:29 - ssync.launch - \u001b[92mINFO\u001b[0m - Launching job on entalpic\n",
      "2025-08-23 00:15:29 - ssync.launch - \u001b[92mINFO\u001b[0m - Syncing source directory to remote host...\n",
      "2025-08-23 00:15:29 - ssync.connection - \u001b[94mDEBUG\u001b[0m - Requesting connection to: ali_ramlaoui_entalpic_ai@entalpic\n"
     ]
    },
    {
     "name": "stdout",
     "output_type": "stream",
     "text": [
      "2025-08-23 00:15:29 - ssync.connection - \u001b[94mDEBUG\u001b[0m - ✓ Reused EXISTING connection to ali_ramlaoui_entalpic_ai@entalpic\n",
      "sending incremental file list\n",
      "./\n",
      "\n",
      "sent 146 bytes  received 19 bytes  330.00 bytes/sec\n",
      "total size is 45  speedup is 0.27\n",
      "2025-08-23 00:15:30 - ssync.launch - \u001b[92mINFO\u001b[0m - Sync completed successfully\n",
      "2025-08-23 00:15:30 - ssync.launch - \u001b[92mINFO\u001b[0m - Preparing script for SLURM submission...\n",
      "{'job_name': 'entalpic', 'time': 30, 'cpus_per_task': 1, 'mem_gb': 4, 'partition': 'debug'}\n",
      "2025-08-23 00:15:30 - ssync.connection - \u001b[94mDEBUG\u001b[0m - Requesting connection to: ali_ramlaoui_entalpic_ai@entalpic\n",
      "2025-08-23 00:15:30 - ssync.connection - \u001b[94mDEBUG\u001b[0m - ✓ Reused EXISTING connection to ali_ramlaoui_entalpic_ai@entalpic\n",
      "2025-08-23 00:15:30 - ssync.utils.ssh - \u001b[94mDEBUG\u001b[0m - Sending /tmp/slurm_launch/launch.slurm to hpcsharedv-slurm-login-001.c.entalpic-prod-hpc-449911.internal:/home/ali_ramlaoui_entalpic_ai/test_dir/scripts/launch.slurm\n",
      "2025-08-23 00:15:30 - ssync.utils.ssh - \u001b[94mDEBUG\u001b[0m - Sent /tmp/slurm_launch/launch.slurm to hpcsharedv-slurm-login-001.c.entalpic-prod-hpc-449911.internal:/home/ali_ramlaoui_entalpic_ai/test_dir/scripts/launch.slurm\n",
      "2025-08-23 00:15:30 - ssync.launch - \u001b[92mINFO\u001b[0m - Script uploaded to /home/ali_ramlaoui_entalpic_ai/test_dir/scripts/launch.slurm\n",
      "2025-08-23 00:15:30 - ssync.launch - \u001b[92mINFO\u001b[0m - Submitting job to SLURM...\n",
      "2025-08-23 00:15:30 - ssync.connection - \u001b[94mDEBUG\u001b[0m - Requesting connection to: ali_ramlaoui_entalpic_ai@entalpic\n",
      "2025-08-23 00:15:30 - ssync.connection - \u001b[94mDEBUG\u001b[0m - ✓ Reused EXISTING connection to ali_ramlaoui_entalpic_ai@entalpic\n",
      "Submitted batch job 9163\n",
      "2025-08-23 00:15:31 - ssync.launch - \u001b[92mINFO\u001b[0m - Job submitted successfully with ID: 9163\n"
     ]
    },
    {
     "data": {
      "text/plain": [
       "<ssync.manager.Job at 0x79fc3ad84f90>"
      ]
     },
     "execution_count": 52,
     "metadata": {},
     "output_type": "execute_result"
    }
   ],
   "source": [
    "from ssync.launch import LaunchManager\n",
    "\n",
    "launcher = LaunchManager(manager)\n",
    "launcher.launch_job(\n",
    "    \"test_dir/launch.sh\",\n",
    "    source_dir=Path(\"test_dir\"),\n",
    "    host=\"entalpic\",\n",
    "    slurm_params=params,\n",
    ")"
   ]
  },
  {
   "cell_type": "code",
   "execution_count": null,
   "id": "2fb586f1",
   "metadata": {},
   "outputs": [
    {
     "name": "stdout",
     "output_type": "stream",
     "text": [
      "             JOBID PARTITION     NAME     USER ST       TIME  NODES NODELIST(REASON)\n"
     ]
    },
    {
     "data": {
      "text/plain": [
       "<Result cmd='squeue -u ali_ramlaoui_entalpic_ai' exited=0>"
      ]
     },
     "execution_count": 51,
     "metadata": {},
     "output_type": "execute_result"
    }
   ],
   "source": [
    "manager.check_status(manager.slurm_hosts[2])"
   ]
  },
  {
   "cell_type": "code",
   "execution_count": null,
   "id": "504b9423",
   "metadata": {},
   "outputs": [
    {
     "data": {
      "text/plain": [
       "<Config: {'run': {'asynchronous': False, 'disown': False, 'dry': False, 'echo': False, 'echo_stdin': None, 'encoding': None, 'env': {}, 'err_stream': None, 'fallback': True, 'hide': None, 'in_stream': None, 'out_stream': None, 'echo_format': '\\x1b[1;37m{command}\\x1b[0m', 'pty': False, 'replace_env': False, 'shell': '/bin/bash', 'warn': False, 'watchers': []}, 'runners': {'local': <class 'invoke.runners.Local'>, 'remote': <class 'fabric.runners.Remote'>, 'remote_shell': <class 'fabric.runners.RemoteShell'>}, 'sudo': {'password': None, 'prompt': '[sudo] password: ', 'user': None}, 'tasks': {'auto_dash_names': True, 'collection_name': 'fabfile', 'dedupe': True, 'executor_class': None, 'ignore_unknown_help': False, 'search_root': None}, 'timeouts': {'command': None, 'connect': None}, 'authentication': {'identities': [], 'strategy_class': None}, 'connect_kwargs': {}, 'forward_agent': False, 'gateway': None, 'inline_ssh_env': True, 'load_ssh_configs': True, 'port': 22, 'ssh_config_path': None, 'user': 'aliramlaoui'}>"
      ]
     },
     "execution_count": 42,
     "metadata": {},
     "output_type": "execute_result"
    }
   ],
   "source": [
    "manager._fabric_config"
   ]
  },
  {
   "cell_type": "code",
   "execution_count": null,
   "id": "f16a874c",
   "metadata": {},
   "outputs": [
    {
     "data": {
      "text/plain": [
       "SlurmHost(host=Host(hostname='adastra', username='', port=22, password='xhSyqEbFft4FpXRW', ProxyJump=None, key_file=None), work_dir=PosixPath('/lus/work/CT10/cad16353/aramlaoui'), scratch_dir=PosixPath('/lus/scratch/CT10/cad16353/aramlaoui'))"
      ]
     },
     "execution_count": 44,
     "metadata": {},
     "output_type": "execute_result"
    }
   ],
   "source": []
  },
  {
   "cell_type": "code",
   "execution_count": null,
   "id": "eb91b803",
   "metadata": {},
   "outputs": [],
   "source": []
  }
 ],
 "metadata": {
  "kernelspec": {
   "display_name": "slurm-sync",
   "language": "python",
   "name": "python3"
  },
  "language_info": {
   "codemirror_mode": {
    "name": "ipython",
    "version": 3
   },
   "file_extension": ".py",
   "mimetype": "text/x-python",
   "name": "python",
   "nbconvert_exporter": "python",
   "pygments_lexer": "ipython3",
   "version": "3.11.10"
  }
 },
 "nbformat": 4,
 "nbformat_minor": 5
}
